{
 "cells": [
  {
   "cell_type": "markdown",
   "metadata": {},
   "source": [
    "## Basic List Operation"
   ]
  },
  {
   "cell_type": "code",
   "execution_count": 45,
   "metadata": {},
   "outputs": [
    {
     "name": "stdout",
     "output_type": "stream",
     "text": [
      "['Mumbai', 'Banglore', 'Hyderabad', 'Chennai', 'Delhi']\n"
     ]
    }
   ],
   "source": [
    "cities=['Mumbai','Banglore','Hyderabad','Chennai','Delhi']\n",
    "print(cities)"
   ]
  },
  {
   "cell_type": "code",
   "execution_count": 46,
   "metadata": {},
   "outputs": [
    {
     "data": {
      "text/plain": [
       "5"
      ]
     },
     "execution_count": 46,
     "metadata": {},
     "output_type": "execute_result"
    }
   ],
   "source": [
    "len(cities)#return length or size of the .list"
   ]
  },
  {
   "cell_type": "code",
   "execution_count": 47,
   "metadata": {},
   "outputs": [
    {
     "data": {
      "text/plain": [
       "'Banglore'"
      ]
     },
     "execution_count": 47,
     "metadata": {},
     "output_type": "execute_result"
    }
   ],
   "source": [
    "cities[1]"
   ]
  },
  {
   "cell_type": "code",
   "execution_count": 48,
   "metadata": {},
   "outputs": [
    {
     "data": {
      "text/plain": [
       "'Delhi'"
      ]
     },
     "execution_count": 48,
     "metadata": {},
     "output_type": "execute_result"
    }
   ],
   "source": [
    "cities[-1]#-1 iterates from last index"
   ]
  },
  {
   "cell_type": "code",
   "execution_count": 49,
   "metadata": {},
   "outputs": [
    {
     "data": {
      "text/plain": [
       "['Delhi', 'Chennai', 'Hyderabad', 'Banglore', 'Mumbai']"
      ]
     },
     "execution_count": 49,
     "metadata": {},
     "output_type": "execute_result"
    }
   ],
   "source": [
    "cities[-1::-1]#print list in freverse order"
   ]
  },
  {
   "cell_type": "code",
   "execution_count": 50,
   "metadata": {},
   "outputs": [],
   "source": [
    "cities.append('PodiCherry')"
   ]
  },
  {
   "cell_type": "code",
   "execution_count": 51,
   "metadata": {},
   "outputs": [
    {
     "data": {
      "text/plain": [
       "['Mumbai', 'Banglore', 'Hyderabad', 'Chennai', 'Delhi', 'PodiCherry']"
      ]
     },
     "execution_count": 51,
     "metadata": {},
     "output_type": "execute_result"
    }
   ],
   "source": [
    "cities"
   ]
  },
  {
   "cell_type": "code",
   "execution_count": 52,
   "metadata": {},
   "outputs": [
    {
     "data": {
      "text/plain": [
       "['Mumbai',\n",
       " 'Banglore',\n",
       " 'Hyderabad',\n",
       " 'Chennai',\n",
       " 'Delhi',\n",
       " 'PodiCherry',\n",
       " 'Pune',\n",
       " 'Noida',\n",
       " 'Gurgaon']"
      ]
     },
     "execution_count": 52,
     "metadata": {},
     "output_type": "execute_result"
    }
   ],
   "source": [
    "#to append multiple values to list\n",
    "cities.extend(['Pune','Noida','Gurgaon'])\n",
    "cities"
   ]
  },
  {
   "cell_type": "markdown",
   "metadata": {},
   "source": [
    "## ListComprehension"
   ]
  },
  {
   "cell_type": "code",
   "execution_count": 53,
   "metadata": {},
   "outputs": [
    {
     "data": {
      "text/plain": [
       "[2, 3, 4]"
      ]
     },
     "execution_count": 53,
     "metadata": {},
     "output_type": "execute_result"
    }
   ],
   "source": [
    "list_a=[1,2,3,4,5]\n",
    "list_b=[6,2,3,4,7]\n",
    "\n",
    "common_num=[a for a in list_a for b in list_b if a==b]\n",
    "\n",
    "\"\"\"\n",
    "for a in list_a:\n",
    "    for b in list_b:\n",
    "        if a==b:\n",
    "            common_num.append(a)\n",
    "\"\"\"\n",
    "common_num"
   ]
  },
  {
   "cell_type": "markdown",
   "metadata": {},
   "source": [
    "### Print even numbers in list"
   ]
  },
  {
   "cell_type": "code",
   "execution_count": 54,
   "metadata": {},
   "outputs": [
    {
     "data": {
      "text/plain": [
       "[0, 2, 4, 6, 8, 10, 12, 14, 16, 18]"
      ]
     },
     "execution_count": 54,
     "metadata": {},
     "output_type": "execute_result"
    }
   ],
   "source": [
    "even_number=[i for i in range(0,20) if i%2==0]\n",
    "even_number"
   ]
  },
  {
   "cell_type": "code",
   "execution_count": 55,
   "metadata": {},
   "outputs": [
    {
     "data": {
      "text/plain": [
       "[0.0,\n",
       " 1.0,\n",
       " 1.4142135623730951,\n",
       " 1.7320508075688772,\n",
       " 2.0,\n",
       " 2.23606797749979,\n",
       " 2.449489742783178,\n",
       " 2.6457513110645907,\n",
       " 2.8284271247461903,\n",
       " 3.0,\n",
       " 3.1622776601683795,\n",
       " 3.3166247903554,\n",
       " 3.4641016151377544,\n",
       " 3.605551275463989,\n",
       " 3.7416573867739413,\n",
       " 3.872983346207417,\n",
       " 4.0,\n",
       " 4.123105625617661,\n",
       " 4.242640687119285,\n",
       " 4.358898943540674]"
      ]
     },
     "execution_count": 55,
     "metadata": {},
     "output_type": "execute_result"
    }
   ],
   "source": [
    "square_root=[i**0.5 for i in range(0,20)]\n",
    "square_root"
   ]
  },
  {
   "cell_type": "markdown",
   "metadata": {},
   "source": [
    "## sort list"
   ]
  },
  {
   "cell_type": "code",
   "execution_count": 56,
   "metadata": {},
   "outputs": [
    {
     "name": "stdout",
     "output_type": "stream",
     "text": [
      "['Banglore', 'Chennai', 'Delhi', 'Gurgaon', 'Hyderabad', 'Mumbai', 'Noida', 'PodiCherry', 'Pune']\n"
     ]
    }
   ],
   "source": [
    "cities.sort()\n",
    "print(cities)"
   ]
  },
  {
   "cell_type": "code",
   "execution_count": 57,
   "metadata": {},
   "outputs": [
    {
     "name": "stdout",
     "output_type": "stream",
     "text": [
      "['Banglore', 'Chennai', 'Delhi', 'Gurgaon', 'Hyderabad', 'Mumbai', 'Noida', 'PodiCherry']\n"
     ]
    }
   ],
   "source": [
    "#using pop method to remove last element\n",
    "#pop removes last value from from the list\n",
    "cities.pop()\n",
    "print(cities)\n"
   ]
  },
  {
   "cell_type": "markdown",
   "metadata": {},
   "source": [
    "## Task"
   ]
  },
  {
   "cell_type": "code",
   "execution_count": 58,
   "metadata": {},
   "outputs": [
    {
     "name": "stdout",
     "output_type": "stream",
     "text": [
      "['Banglore', 'Chennai', 'Delhi', 'Gurgaon', 'Hyderabad', 'Mumbai', 'Noida', 'PodiCherry']\n"
     ]
    },
    {
     "data": {
      "text/plain": [
       "'\\n\\nThe primary difference between the list sort() function and the sorted()\\nfunction is that the sort() function will modify the list it is called on.\\nThe sorted() function will create a new list containing a sorted version of the list it is given. \\nThe sorted() function will not modify the list passed as a parameter. \\nIf you want to sort a list but still have the original unsorted version, \\nthen you would use the sorted() function.\\nIf maintaining the original order of the list is unimportant, then you can call the sort() function on the list.\\n'"
      ]
     },
     "execution_count": 58,
     "metadata": {},
     "output_type": "execute_result"
    }
   ],
   "source": [
    "cities.sort()\n",
    "print(cities)\n",
    "sorted(cities,reverse=True)\n",
    "\n",
    "#difference between sort and sorted\n",
    "\"\"\"\n",
    "\n",
    "The primary difference between the list sort() function and the sorted()\n",
    "function is that the sort() function will modify the list it is called on.\n",
    "The sorted() function will create a new list containing a sorted version of the list it is given. \n",
    "The sorted() function will not modify the list passed as a parameter. \n",
    "If you want to sort a list but still have the original unsorted version, \n",
    "then you would use the sorted() function.\n",
    "If maintaining the original order of the list is unimportant, then you can call the sort() function on the list.\n",
    "\"\"\""
   ]
  },
  {
   "cell_type": "code",
   "execution_count": 59,
   "metadata": {
    "scrolled": true
   },
   "outputs": [
    {
     "name": "stdout",
     "output_type": "stream",
     "text": [
      "None\n",
      "['Banglore', 'Chennai', 'Gurgaon', 'Hyderabad', 'Mumbai', 'Noida', 'PodiCherry']\n",
      "Hyderabad\n",
      "['Banglore', 'Chennai', 'Gurgaon', 'Mumbai', 'Noida', 'PodiCherry']\n",
      "['Chennai', 'Gurgaon', 'Mumbai', 'Noida', 'PodiCherry']\n"
     ]
    }
   ],
   "source": [
    "#Difference between pop and remove\n",
    "\"\"\"\n",
    "list.remove(value)\n",
    "Yes, remove() removes the first matching value/object. It does not do anything with the indexing.\n",
    "\n",
    "del list[index]\n",
    "del removes the item at a specific index.\n",
    "\n",
    "\n",
    "remove() delete the matching element/object whereas del and pop removes the element at a specific index.\n",
    "\n",
    "del and pop deals with the index. \n",
    "\n",
    "The only difference between two is that- pop return deleted the value \n",
    "from the list and del does not return anything.\n",
    "\n",
    "Pop is only way that returns the object.\n",
    "Remove is the only one that searches object (not index).\n",
    "\n",
    "\"\"\"\n",
    "print(cities.remove('Delhi'))\n",
    "print(cities)\n",
    "print(cities.pop(3))\n",
    "print(cities)\n",
    "del cities[0]\n",
    "print(cities)"
   ]
  },
  {
   "cell_type": "code",
   "execution_count": 62,
   "metadata": {},
   "outputs": [
    {
     "name": "stdout",
     "output_type": "stream",
     "text": [
      "['Banglore', 'Banglore', 'Banglore', 'Chennai', 'Gurgaon', 'Mumbai', 'Noida', 'PodiCherry']\n",
      "0\n"
     ]
    }
   ],
   "source": [
    "#to insert value at particular  index\n",
    "cities.insert(0,'Banglore')\n",
    "print(cities)\n",
    "#index rfturns the index of object\n",
    "print(cities.index('Banglore'))"
   ]
  },
  {
   "cell_type": "code",
   "execution_count": 63,
   "metadata": {},
   "outputs": [
    {
     "name": "stdout",
     "output_type": "stream",
     "text": [
      "['Banglore', 'Banglore', 'Chennai', 'Gurgaon', 'Mumbai', 'Noida', 'PodiCherry']\n",
      "['Banglore']\n"
     ]
    }
   ],
   "source": [
    "#delete at particular index\n",
    "del cities[0]\n",
    "print(cities)\n",
    "#delete range of index\n",
    "del cities[1:]\n",
    "print(cities)"
   ]
  },
  {
   "cell_type": "markdown",
   "metadata": {},
   "source": [
    "## Dictionary"
   ]
  },
  {
   "cell_type": "code",
   "execution_count": null,
   "metadata": {},
   "outputs": [],
   "source": [
    "sample_dict={\n",
    "    'a':'AI',\n",
    "    'b':'Business',\n",
    "    'c':'Cost',\n",
    "    'd':'Data'\n",
    "}"
   ]
  }
 ],
 "metadata": {
  "kernelspec": {
   "display_name": "Python 3",
   "language": "python",
   "name": "python3"
  },
  "language_info": {
   "codemirror_mode": {
    "name": "ipython",
    "version": 3
   },
   "file_extension": ".py",
   "mimetype": "text/x-python",
   "name": "python",
   "nbconvert_exporter": "python",
   "pygments_lexer": "ipython3",
   "version": "3.7.4"
  }
 },
 "nbformat": 4,
 "nbformat_minor": 2
}
