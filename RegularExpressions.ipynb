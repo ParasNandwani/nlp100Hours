{
 "cells": [
  {
   "cell_type": "markdown",
   "metadata": {},
   "source": [
    "## Regular Expression\n",
    "Regukar expression (sometime called regex for short) allow a user to search  for string using almost any  sort of rule they can come up with.For example finding all capital letters in a string,or finding phone number in a document.\n",
    "Regular expression are notorious for their seemingly strange syntax.This strange syntax is a byproduct of their flexibility.\n",
    "Regular expression have to be able to filter out any string pattern you can imagine which is they have complex string pattern fotrmat."
   ]
  },
  {
   "cell_type": "markdown",
   "metadata": {},
   "source": [
    "## Searching for basic patterns"
   ]
  },
  {
   "cell_type": "code",
   "execution_count": 2,
   "metadata": {},
   "outputs": [
    {
     "data": {
      "text/plain": [
       "True"
      ]
     },
     "execution_count": 2,
     "metadata": {},
     "output_type": "execute_result"
    }
   ],
   "source": [
    "text=\"The agent's phone number is 408-555-12334 .Call soon!\"\n",
    "#we will start of by trying to find out if the string \"phone\" is inside the string\n",
    "'phone' in text"
   ]
  },
  {
   "cell_type": "code",
   "execution_count": 2,
   "metadata": {},
   "outputs": [],
   "source": [
    "import re\n",
    "import nltk"
   ]
  },
  {
   "cell_type": "code",
   "execution_count": 5,
   "metadata": {},
   "outputs": [
    {
     "data": {
      "text/plain": [
       "<re.Match object; span=(12, 17), match='phone'>"
      ]
     },
     "execution_count": 5,
     "metadata": {},
     "output_type": "execute_result"
    }
   ],
   "source": [
    "pattern='phone'\n",
    "re.search(pattern,text)#re.search('pattern to serach',text in which we have to serachn)"
   ]
  },
  {
   "cell_type": "code",
   "execution_count": 6,
   "metadata": {},
   "outputs": [],
   "source": [
    "#Now we have seen that re.search()  will tajke the pattern ,scan the text and then returns a match object.\n",
    "#If no pattern found a None is returned"
   ]
  },
  {
   "cell_type": "code",
   "execution_count": 9,
   "metadata": {},
   "outputs": [],
   "source": [
    "pattern='phone'\n",
    "match=re.search(pattern,text)"
   ]
  },
  {
   "cell_type": "code",
   "execution_count": 10,
   "metadata": {},
   "outputs": [
    {
     "data": {
      "text/plain": [
       "<re.Match object; span=(12, 17), match='phone'>"
      ]
     },
     "execution_count": 10,
     "metadata": {},
     "output_type": "execute_result"
    }
   ],
   "source": [
    "match"
   ]
  },
  {
   "cell_type": "code",
   "execution_count": 11,
   "metadata": {},
   "outputs": [
    {
     "data": {
      "text/plain": [
       "(12, 17)"
      ]
     },
     "execution_count": 11,
     "metadata": {},
     "output_type": "execute_result"
    }
   ],
   "source": [
    "match.span()"
   ]
  },
  {
   "cell_type": "code",
   "execution_count": 12,
   "metadata": {},
   "outputs": [
    {
     "data": {
      "text/plain": [
       "12"
      ]
     },
     "execution_count": 12,
     "metadata": {},
     "output_type": "execute_result"
    }
   ],
   "source": [
    "match.start()"
   ]
  },
  {
   "cell_type": "code",
   "execution_count": 13,
   "metadata": {},
   "outputs": [
    {
     "data": {
      "text/plain": [
       "17"
      ]
     },
     "execution_count": 13,
     "metadata": {},
     "output_type": "execute_result"
    }
   ],
   "source": [
    "match.end()"
   ]
  },
  {
   "cell_type": "code",
   "execution_count": 15,
   "metadata": {},
   "outputs": [
    {
     "data": {
      "text/plain": [
       "<re.Match object; span=(3, 8), match='phone'>"
      ]
     },
     "execution_count": 15,
     "metadata": {},
     "output_type": "execute_result"
    }
   ],
   "source": [
    "#but what if the pattern occurs more than once\n",
    "pattern='phone'\n",
    "text='my phone is new phone'\n",
    "re.search(pattern,text)\n",
    "#it will return the firts occurence"
   ]
  },
  {
   "cell_type": "code",
   "execution_count": 17,
   "metadata": {},
   "outputs": [
    {
     "data": {
      "text/plain": [
       "['phone', 'phone']"
      ]
     },
     "execution_count": 17,
     "metadata": {},
     "output_type": "execute_result"
    }
   ],
   "source": [
    "#If we want all matche  we can use re.findall()\n",
    "search_list=re.findall(pattern,text)\n",
    "search_list"
   ]
  },
  {
   "cell_type": "code",
   "execution_count": 18,
   "metadata": {},
   "outputs": [
    {
     "name": "stdout",
     "output_type": "stream",
     "text": [
      "(3, 8)\n",
      "(16, 21)\n"
     ]
    }
   ],
   "source": [
    "#to find exact match or actual match use iteraror\n",
    "for match in re.finditer(pattern,text):\n",
    "    print(match.span())"
   ]
  },
  {
   "cell_type": "markdown",
   "metadata": {},
   "source": [
    "## Patterns\n",
    "We could use \"seacrh\" methodf if we know the exact phone or email,butrif we dont know the exact mmmatch we can use along with the regular expression to search the document for strings that match a particular pattern."
   ]
  },
  {
   "cell_type": "markdown",
   "metadata": {},
   "source": [
    "## Practice"
   ]
  },
  {
   "cell_type": "code",
   "execution_count": 24,
   "metadata": {},
   "outputs": [],
   "source": [
    "word_list=[word for word in nltk.corpus.words.words('en') if word.islower()]"
   ]
  },
  {
   "cell_type": "code",
   "execution_count": 25,
   "metadata": {},
   "outputs": [
    {
     "data": {
      "text/plain": [
       "['a',\n",
       " 'aa',\n",
       " 'aal',\n",
       " 'aalii',\n",
       " 'aam',\n",
       " 'aardvark',\n",
       " 'aardwolf',\n",
       " 'aba',\n",
       " 'abac',\n",
       " 'abaca']"
      ]
     },
     "execution_count": 25,
     "metadata": {},
     "output_type": "execute_result"
    }
   ],
   "source": [
    "word_list[:10]"
   ]
  },
  {
   "cell_type": "code",
   "execution_count": 27,
   "metadata": {},
   "outputs": [
    {
     "name": "stdout",
     "output_type": "stream",
     "text": [
      "['abactinally', 'abandonedly', 'abasedly', 'abashedly', 'abashlessly', 'abbreviately', 'abdominally', 'abhorrently', 'abidingly', 'abiogenetically']\n"
     ]
    }
   ],
   "source": [
    "print([word for word in word_list if re.search('ly$',word)][:10])"
   ]
  },
  {
   "cell_type": "code",
   "execution_count": 29,
   "metadata": {},
   "outputs": [
    {
     "name": "stdout",
     "output_type": "stream",
     "text": [
      "['twa', 'twaddle', 'twaddledom', 'twaddleize', 'twaddlement', 'twaddlemonger', 'twaddler', 'twaddlesome', 'twaddling', 'twaddlingly']\n"
     ]
    }
   ],
   "source": [
    "print([word for word in word_list if re.search('^tw',word)][:10])"
   ]
  },
  {
   "cell_type": "code",
   "execution_count": 37,
   "metadata": {},
   "outputs": [
    {
     "name": "stdout",
     "output_type": "stream",
     "text": [
      "['twilight']\n"
     ]
    }
   ],
   "source": [
    "print([word for word in word_list if re.search('^tw\\D{3}ght$',word)][:10])"
   ]
  },
  {
   "cell_type": "code",
   "execution_count": 45,
   "metadata": {},
   "outputs": [
    {
     "name": "stdout",
     "output_type": "stream",
     "text": [
      "['cly', 'fly', 'ply', 'sly']\n"
     ]
    }
   ],
   "source": [
    "#search strings which dosemnt contains vowels\n",
    "print([word for word in word_list if re.search('^[^a,e,i,o,u]ly$',word)][:10])"
   ]
  },
  {
   "cell_type": "code",
   "execution_count": 70,
   "metadata": {},
   "outputs": [
    {
     "data": {
      "text/plain": [
       "['go', 'ho', 'in', 'io']"
      ]
     },
     "execution_count": 70,
     "metadata": {},
     "output_type": "execute_result"
    }
   ],
   "source": [
    "[word for word in word_list if re.search('^[ghi][mno]$',word)][:10]\n",
    "#if we put any thing string that matches any of the character\n",
    "#either match with g,h or i and end character will match either m,n or o"
   ]
  },
  {
   "cell_type": "code",
   "execution_count": 69,
   "metadata": {},
   "outputs": [
    {
     "data": {
      "text/plain": [
       "['mine',\n",
       " 'miiiiiiiiiiiiinnnnnnnnnnneeeeeeeeee',\n",
       " 'miiiiiinnnnnnnnnneeeeeeee',\n",
       " 'mmmmmmmmiiiiiiiiinnnnnnnnneeeeeeee']"
      ]
     },
     "execution_count": 69,
     "metadata": {},
     "output_type": "execute_result"
    }
   ],
   "source": [
    "##'+' inc=dicates one or more of preceeding character\n",
    "##'*' means zero or more preceeding characters\n",
    "##'-' range of characters\n",
    "##'.' matches any character\n",
    "chat_words=set([word for word in nltk.corpus.nps_chat.words()])\n",
    "[word for word in chat_words if re.search('^m+i+n+e+$',word)][:10]"
   ]
  },
  {
   "cell_type": "code",
   "execution_count": 71,
   "metadata": {},
   "outputs": [],
   "source": [
    "corp=sorted(set(nltk.corpus.treebank.words()))"
   ]
  },
  {
   "cell_type": "code",
   "execution_count": 74,
   "metadata": {},
   "outputs": [
    {
     "name": "stdout",
     "output_type": "stream",
     "text": [
      "['0.9', '0.99', '1.9', '107.9', '112.9', '116.9', '12.09', '13.90', '132.9', '14.00', '14.99', '141.9', '148.9', '149.9', '150.00', '16.09', '16.9', '169.9', '185.9', '191.9']\n"
     ]
    }
   ],
   "source": [
    "print([w for w in corp if re.search('^[0-9]+\\.[0.9]+$',w)][:20])"
   ]
  },
  {
   "cell_type": "code",
   "execution_count": null,
   "metadata": {},
   "outputs": [],
   "source": [
    "print([w for w in corp  if re.search('^[0-9]+\\.[0.9]')])"
   ]
  },
  {
   "cell_type": "code",
   "execution_count": 81,
   "metadata": {},
   "outputs": [
    {
     "data": {
      "text/plain": [
       "['Annualized',\n",
       " 'Generalized',\n",
       " 'Standardized',\n",
       " 'Used',\n",
       " 'accused',\n",
       " 'advertised',\n",
       " 'advised',\n",
       " 'annualized',\n",
       " 'assessed',\n",
       " 'authorized']"
      ]
     },
     "execution_count": 81,
     "metadata": {},
     "output_type": "execute_result"
    }
   ],
   "source": [
    "#print all the word that end with sewd or zed buut should be single word\n",
    "[w for w in corp if re.search('^\\w+(sed|zed)$',w)][:10]"
   ]
  },
  {
   "cell_type": "code",
   "execution_count": 84,
   "metadata": {},
   "outputs": [
    {
     "data": {
      "text/plain": [
       "['two-time-losers', 'two-year-old']"
      ]
     },
     "execution_count": 84,
     "metadata": {},
     "output_type": "execute_result"
    }
   ],
   "source": [
    "[w for w in corp if re.search('^[a-z]{3}-[a-z]{4}-[a-z]{3}',w)][:20]"
   ]
  },
  {
   "cell_type": "code",
   "execution_count": 85,
   "metadata": {},
   "outputs": [
    {
     "data": {
      "text/plain": [
       "['62%-owned',\n",
       " 'Absorbed',\n",
       " 'According',\n",
       " 'Adopting',\n",
       " 'Advanced',\n",
       " 'Advancing',\n",
       " 'Alfred',\n",
       " 'Allied',\n",
       " 'Annualized',\n",
       " 'Anything',\n",
       " 'Arbitrage-related',\n",
       " 'Arbitraging',\n",
       " 'Asked',\n",
       " 'Assuming',\n",
       " 'Atlanta-based',\n",
       " 'Baking',\n",
       " 'Banking',\n",
       " 'Beginning',\n",
       " 'Beijing',\n",
       " 'Being']"
      ]
     },
     "execution_count": 85,
     "metadata": {},
     "output_type": "execute_result"
    }
   ],
   "source": [
    "# | (pipe) symbol is for 'or' condition\n",
    "[w for w in corp if re.search('(ed|ing)$',w)][:20]"
   ]
  },
  {
   "cell_type": "code",
   "execution_count": 97,
   "metadata": {},
   "outputs": [
    {
     "data": {
      "text/plain": [
       "435"
      ]
     },
     "execution_count": 97,
     "metadata": {},
     "output_type": "execute_result"
    }
   ],
   "source": [
    "len([w for w in corp if re.search('\\W-[0-9]+',w)])"
   ]
  },
  {
   "cell_type": "code",
   "execution_count": 98,
   "metadata": {},
   "outputs": [
    {
     "data": {
      "text/plain": [
       "['a', 'a', 'i', 'e', 'e', 'o', 'u', 'e', 'e', 'e']"
      ]
     },
     "execution_count": 98,
     "metadata": {},
     "output_type": "execute_result"
    }
   ],
   "source": [
    "word='DataScience-NLPCourse-Week2'\n",
    "re.findall(r'[aeiou]',word)"
   ]
  },
  {
   "cell_type": "code",
   "execution_count": 3,
   "metadata": {},
   "outputs": [],
   "source": [
    "corp=sorted(set(nltk.corpus.treebank.words()))"
   ]
  },
  {
   "cell_type": "code",
   "execution_count": 6,
   "metadata": {},
   "outputs": [
    {
     "name": "stdout",
     "output_type": "stream",
     "text": [
      "['2.95', '20.07', '22.75', '220.45', '23.25', '23.72', '236.74', '236.79', '24.95', '25.50', '263.07', '2645.90', '2691.19', '28.25', '28.36', '28.53', '292.32', '3.01', '3.04', '3.16', '3.18', '3.19', '3.20', '3.23', '3.28', '3.35', '3.42', '3.43', '3.55', '3.61', '3.75', '3.80', '319.75', '341.20', '3436.58', '35500.64', '35564.43', '3648.82', '372.14', '374.19', '374.20', '377.60', '4.10', '4.25', '4.55', '4.75', '40.21', '41.60', '436.01', '446.62', '449.04', '45.75', '456.64', '494.50', '497.34', '5.29', '5.39', '5.57', '5.63', '5.70', '5.82', '5.92', '50.38', '50.45', '51.25', '566.54', '57.50', '58.64', '6.03', '6.20', '6.21', '6.25', '6.40', '6.44', '6.50', '6.53', '6.70', '6.79', '6.84', '60.36', '63.79', '7.15', '7.20', '7.40', '7.45', '7.50', '7.52', '7.55', '7.60', '7.62', '7.63', '7.65', '7.74', '7.78', '7.79', '7.80', '7.84', '7.88', '7.90', '7.95']\n"
     ]
    }
   ],
   "source": [
    "print([w for w in corp if re.search('^[0-9]+\\.[0-9]{2}$',w)][100:200])"
   ]
  },
  {
   "cell_type": "markdown",
   "metadata": {},
   "source": [
    "## Other appliactions of REgex"
   ]
  },
  {
   "cell_type": "code",
   "execution_count": 7,
   "metadata": {},
   "outputs": [
    {
     "name": "stdout",
     "output_type": "stream",
     "text": [
      "['a', 'a', 'e', 'a', 'a', 'i', 'e', 'e', 'o', 'u', 'e', 'e', 'e']\n"
     ]
    }
   ],
   "source": [
    "word=\"GradvalleyDataScience-NLPCourse-Week2\"\n",
    "print(re.findall(r'[aeiou]',word))"
   ]
  },
  {
   "cell_type": "code",
   "execution_count": 9,
   "metadata": {},
   "outputs": [
    {
     "data": {
      "text/plain": [
       "['!',\n",
       " '#',\n",
       " '$',\n",
       " '%',\n",
       " '&',\n",
       " \"'\",\n",
       " \"''\",\n",
       " \"'30s\",\n",
       " \"'40s\",\n",
       " \"'50s\",\n",
       " \"'80s\",\n",
       " \"'82\",\n",
       " \"'86\",\n",
       " \"'S\",\n",
       " \"'d\",\n",
       " \"'ll\",\n",
       " \"'m\",\n",
       " \"'re\",\n",
       " \"'s\",\n",
       " \"'ve\",\n",
       " '*',\n",
       " '*-1',\n",
       " '*-10',\n",
       " '*-100',\n",
       " '*-101',\n",
       " '*-102',\n",
       " '*-103',\n",
       " '*-104',\n",
       " '*-105',\n",
       " '*-106',\n",
       " '*-107',\n",
       " '*-108',\n",
       " '*-109',\n",
       " '*-11',\n",
       " '*-110',\n",
       " '*-111',\n",
       " '*-112',\n",
       " '*-113',\n",
       " '*-114',\n",
       " '*-115']"
      ]
     },
     "execution_count": 9,
     "metadata": {},
     "output_type": "execute_result"
    }
   ],
   "source": [
    "words = sorted(set(nltk.corpus.treebank.words()))\n",
    "words[:40]"
   ]
  },
  {
   "cell_type": "code",
   "execution_count": 12,
   "metadata": {},
   "outputs": [],
   "source": [
    "#frequency distribution using nltk\n",
    "fd=nltk.FreqDist(vs for word in words for vs in re.findall(r'[aeiou]{2,}',word))"
   ]
  },
  {
   "cell_type": "code",
   "execution_count": 14,
   "metadata": {},
   "outputs": [
    {
     "data": {
      "text/plain": [
       "dict_items([('ea', 476), ('oi', 65), ('ou', 329), ('io', 549), ('ee', 217), ('ie', 331), ('ui', 95), ('ua', 109), ('ai', 261), ('ue', 105), ('ia', 253), ('ei', 86), ('iai', 1), ('oo', 174), ('au', 106), ('eau', 10), ('oa', 59), ('oei', 1), ('oe', 15), ('eo', 39), ('uu', 1), ('eu', 18), ('iu', 14), ('aii', 1), ('aiia', 1), ('ae', 11), ('aa', 3), ('oui', 6), ('ieu', 3), ('ao', 6), ('iou', 27), ('uee', 4), ('eou', 5), ('aia', 1), ('uie', 3), ('iao', 1), ('eei', 2), ('uo', 8), ('uou', 5), ('eea', 1), ('ueui', 1), ('ioa', 1), ('ooi', 1)])"
      ]
     },
     "execution_count": 14,
     "metadata": {},
     "output_type": "execute_result"
    }
   ],
   "source": [
    "fd.items()"
   ]
  },
  {
   "cell_type": "code",
   "execution_count": 20,
   "metadata": {},
   "outputs": [
    {
     "name": "stdout",
     "output_type": "stream",
     "text": [
      "    a   e   i   o   u \n",
      "k 418 148  94 420 173 \n",
      "p  83  31 105  34  51 \n",
      "r 187  63  84  89  79 \n",
      "s   0   0 100   2   1 \n",
      "t  47   8   0 148  37 \n",
      "v  93  27 105  48  49 \n"
     ]
    }
   ],
   "source": [
    "words=nltk.corpus.toolbox.words('rotokas.dic')\n",
    "patterns=[cv for w in words for cv in re.findall(r'[ptksvr][aeiou]',w)]\n",
    "cond_dict=nltk.ConditionalFreqDist(patterns)\n",
    "cond_dict.tabulate()"
   ]
  },
  {
   "cell_type": "code",
   "execution_count": 16,
   "metadata": {},
   "outputs": [
    {
     "data": {
      "text/plain": [
       "['processing']"
      ]
     },
     "execution_count": 16,
     "metadata": {},
     "output_type": "execute_result"
    }
   ],
   "source": [
    "#stemming using regex \n",
    "#r indicates as raw string\n",
    "re.findall(r'^.*(ing|ly|ed|ious|ies|ive|es|s|ment)$','processing')"
   ]
  },
  {
   "cell_type": "code",
   "execution_count": 19,
   "metadata": {},
   "outputs": [
    {
     "data": {
      "text/plain": [
       "['processing']"
      ]
     },
     "execution_count": 19,
     "metadata": {},
     "output_type": "execute_result"
    }
   ],
   "source": [
    "re.findall(r'^.*(?:ing|ly|ed|ious|ies|ive|es|s|ment)$','processing')"
   ]
  }
 ],
 "metadata": {
  "kernelspec": {
   "display_name": "Python 3",
   "language": "python",
   "name": "python3"
  },
  "language_info": {
   "codemirror_mode": {
    "name": "ipython",
    "version": 3
   },
   "file_extension": ".py",
   "mimetype": "text/x-python",
   "name": "python",
   "nbconvert_exporter": "python",
   "pygments_lexer": "ipython3",
   "version": "3.7.4"
  }
 },
 "nbformat": 4,
 "nbformat_minor": 2
}
