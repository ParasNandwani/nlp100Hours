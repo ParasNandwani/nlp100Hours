{
 "cells": [
  {
   "cell_type": "code",
   "execution_count": 1,
   "metadata": {},
   "outputs": [],
   "source": [
    "import nltk"
   ]
  },
  {
   "cell_type": "code",
   "execution_count": 4,
   "metadata": {},
   "outputs": [],
   "source": [
    "from nltk.book import*"
   ]
  },
  {
   "cell_type": "code",
   "execution_count": 3,
   "metadata": {},
   "outputs": [],
   "source": [
    "from nltk.book import text2"
   ]
  },
  {
   "cell_type": "code",
   "execution_count": 5,
   "metadata": {},
   "outputs": [],
   "source": [
    "from nltk.corpus import brown\n",
    "\n",
    "#it comtains 500 samples of English-language text,\n",
    "#roughly one million words\n",
    "#"
   ]
  },
  {
   "cell_type": "code",
   "execution_count": 7,
   "metadata": {},
   "outputs": [
    {
     "data": {
      "text/plain": [
       "<CategorizedTaggedCorpusReader in '/home/parasn/nltk_data/corpora/brown'>"
      ]
     },
     "execution_count": 7,
     "metadata": {},
     "output_type": "execute_result"
    }
   ],
   "source": [
    "brown.categories()\n",
    "brown"
   ]
  },
  {
   "cell_type": "code",
   "execution_count": 8,
   "metadata": {},
   "outputs": [
    {
     "data": {
      "text/plain": [
       "['Now', 'that', 'he', 'knew', 'himself', 'to', 'be', ...]"
      ]
     },
     "execution_count": 8,
     "metadata": {},
     "output_type": "execute_result"
    }
   ],
   "source": [
    "brown.words(categories='science_fiction')"
   ]
  },
  {
   "cell_type": "code",
   "execution_count": 9,
   "metadata": {},
   "outputs": [
    {
     "data": {
      "text/plain": [
       "['Thirty-three', 'Scotty', 'did', 'not', 'go', 'back', ...]"
      ]
     },
     "execution_count": 9,
     "metadata": {},
     "output_type": "execute_result"
    }
   ],
   "source": [
    "brown.words(categories=['adventure','science_fiction','fiction'])"
   ]
  },
  {
   "cell_type": "code",
   "execution_count": 10,
   "metadata": {},
   "outputs": [],
   "source": [
    "from nltk.corpus import webtext"
   ]
  },
  {
   "cell_type": "code",
   "execution_count": 14,
   "metadata": {},
   "outputs": [
    {
     "data": {
      "text/plain": [
       "['Cookie',\n",
       " 'Manager',\n",
       " ':',\n",
       " '\"',\n",
       " 'Don',\n",
       " \"'\",\n",
       " 't',\n",
       " 'allow',\n",
       " 'sites',\n",
       " 'that',\n",
       " 'set',\n",
       " 'removed',\n",
       " 'cookies',\n",
       " 'to',\n",
       " 'set',\n",
       " 'future',\n",
       " 'cookies',\n",
       " '\"',\n",
       " 'should',\n",
       " 'stay']"
      ]
     },
     "execution_count": 14,
     "metadata": {},
     "output_type": "execute_result"
    }
   ],
   "source": [
    "webtext.words()[:20]"
   ]
  },
  {
   "cell_type": "markdown",
   "metadata": {},
   "source": [
    "# Speech Tagging"
   ]
  },
  {
   "cell_type": "code",
   "execution_count": 15,
   "metadata": {},
   "outputs": [],
   "source": [
    "#same pronunciation or spelling but different meanings"
   ]
  },
  {
   "cell_type": "code",
   "execution_count": 17,
   "metadata": {},
   "outputs": [],
   "source": [
    "from nltk.tokenize import sent_tokenize , word_tokenize"
   ]
  },
  {
   "cell_type": "code",
   "execution_count": 18,
   "metadata": {},
   "outputs": [
    {
     "data": {
      "text/plain": [
       "['Its time to start NLP.',\n",
       " 'Machine learning also can be useful in this context']"
      ]
     },
     "execution_count": 18,
     "metadata": {},
     "output_type": "execute_result"
    }
   ],
   "source": [
    "ex='Its time to start NLP. Machine learning also can be useful in this context'\n",
    "sent_tokens=sent_tokenize(ex)\n",
    "sent_tokens\n",
    "#space is require after full stop if we aree doing sentence tokenizing"
   ]
  },
  {
   "cell_type": "code",
   "execution_count": 19,
   "metadata": {},
   "outputs": [
    {
     "data": {
      "text/plain": [
       "['Its',\n",
       " 'time',\n",
       " 'to',\n",
       " 'start',\n",
       " 'NLP',\n",
       " '.',\n",
       " 'Machine',\n",
       " 'learning',\n",
       " 'also',\n",
       " 'can',\n",
       " 'be',\n",
       " 'useful',\n",
       " 'in',\n",
       " 'this',\n",
       " 'context']"
      ]
     },
     "execution_count": 19,
     "metadata": {},
     "output_type": "execute_result"
    }
   ],
   "source": [
    "word_tokens=word_tokenize(ex)\n",
    "word_tokens"
   ]
  },
  {
   "cell_type": "code",
   "execution_count": 20,
   "metadata": {},
   "outputs": [
    {
     "data": {
      "text/plain": [
       "[('Its', 'PRP$'),\n",
       " ('time', 'NN'),\n",
       " ('to', 'TO'),\n",
       " ('start', 'VB'),\n",
       " ('NLP', 'NNP'),\n",
       " ('.', '.'),\n",
       " ('Machine', 'NNP'),\n",
       " ('learning', 'VBG'),\n",
       " ('also', 'RB'),\n",
       " ('can', 'MD'),\n",
       " ('be', 'VB'),\n",
       " ('useful', 'JJ'),\n",
       " ('in', 'IN'),\n",
       " ('this', 'DT'),\n",
       " ('context', 'NN')]"
      ]
     },
     "execution_count": 20,
     "metadata": {},
     "output_type": "execute_result"
    }
   ],
   "source": [
    "#pos tagging(Parts of speech tagging)\n",
    "from nltk.tag import pos_tag\n",
    "tags=pos_tag(word_tokens)\n",
    "tags\n",
    "#"
   ]
  },
  {
   "cell_type": "code",
   "execution_count": 25,
   "metadata": {},
   "outputs": [
    {
     "name": "stdout",
     "output_type": "stream",
     "text": [
      "JJ: adjective or numeral, ordinal\n",
      "    third ill-mannered pre-war regrettable oiled calamitous first separable\n",
      "    ectoplasmic battery-powered participatory fourth still-to-be-named\n",
      "    multilingual multi-disciplinary ...\n",
      "None\n",
      "NNP: noun, proper, singular\n",
      "    Motown Venneboerger Czestochwa Ranzer Conchita Trumplane Christos\n",
      "    Oceanside Escobar Kreisler Sawyer Cougar Yvette Ervin ODI Darryl CTCA\n",
      "    Shannon A.K.C. Meltex Liverpool ...\n",
      "None\n"
     ]
    }
   ],
   "source": [
    "#to know abbreviation meaning \n",
    "print(nltk.help.upenn_tagset('JJ'))\n",
    "print(nltk.help.upenn_tagset('NNP'))"
   ]
  },
  {
   "cell_type": "code",
   "execution_count": 23,
   "metadata": {},
   "outputs": [
    {
     "data": {
      "text/plain": [
       "[('The', 'AT'),\n",
       " ('Fulton', 'NP-TL'),\n",
       " ('County', 'NN-TL'),\n",
       " ('Grand', 'JJ-TL'),\n",
       " ('Jury', 'NN-TL'),\n",
       " ('said', 'VBD'),\n",
       " ('Friday', 'NR'),\n",
       " ('an', 'AT'),\n",
       " ('investigation', 'NN'),\n",
       " ('of', 'IN'),\n",
       " (\"Atlanta's\", 'NP$'),\n",
       " ('recent', 'JJ'),\n",
       " ('primary', 'NN'),\n",
       " ('election', 'NN'),\n",
       " ('produced', 'VBD'),\n",
       " ('``', '``'),\n",
       " ('no', 'AT'),\n",
       " ('evidence', 'NN'),\n",
       " (\"''\", \"''\"),\n",
       " ('that', 'CS')]"
      ]
     },
     "execution_count": 23,
     "metadata": {},
     "output_type": "execute_result"
    }
   ],
   "source": [
    "nltk.corpus.brown.tagged_words()[:20]"
   ]
  },
  {
   "cell_type": "markdown",
   "metadata": {},
   "source": [
    "## Frequency distribution with nltk\n"
   ]
  },
  {
   "cell_type": "code",
   "execution_count": 43,
   "metadata": {},
   "outputs": [],
   "source": [
    "from nltk.book import*\n",
    "import matplotlib.pyplot as plt"
   ]
  },
  {
   "cell_type": "code",
   "execution_count": 33,
   "metadata": {},
   "outputs": [
    {
     "name": "stdout",
     "output_type": "stream",
     "text": [
      "260819\n",
      "['[', 'Moby', 'Dick', 'by', 'Herman', 'Melville', '1851', ']', 'ETYMOLOGY', '.', '(', 'Supplied', 'by', 'a', 'Late', 'Consumptive', 'Usher', 'to', 'a', 'Grammar', 'School', ')', 'The', 'pale', 'Usher', '--', 'threadbare', 'in', 'coat', ',', 'heart', ',', 'body', ',', 'and', 'brain', ';', 'I', 'see', 'him', 'now', '.', 'He', 'was', 'ever', 'dusting', 'his', 'old', 'lexicons', 'and']\n"
     ]
    }
   ],
   "source": [
    "print(len(text1))\n",
    "ex=text1[:50]\n",
    "print(ex)"
   ]
  },
  {
   "cell_type": "code",
   "execution_count": 34,
   "metadata": {},
   "outputs": [],
   "source": [
    "Fdist=FreqDist(text1)"
   ]
  },
  {
   "cell_type": "code",
   "execution_count": 36,
   "metadata": {},
   "outputs": [
    {
     "name": "stdout",
     "output_type": "stream",
     "text": [
      "<FreqDist with 19317 samples and 260819 outcomes>\n",
      "19317\n"
     ]
    }
   ],
   "source": [
    "print(Fdist)\n",
    "print(len(Fdist))\n",
    "#19317 unique words"
   ]
  },
  {
   "cell_type": "code",
   "execution_count": 37,
   "metadata": {},
   "outputs": [
    {
     "name": "stdout",
     "output_type": "stream",
     "text": [
      "[(',', 18713), ('the', 13721), ('.', 6862), ('of', 6536), ('and', 6024), ('a', 4569), ('to', 4542), (';', 4072), ('in', 3916), ('that', 2982), (\"'\", 2684), ('-', 2552), ('his', 2459), ('it', 2209), ('I', 2124), ('s', 1739), ('is', 1695), ('he', 1661), ('with', 1659), ('was', 1632), ('as', 1620), ('\"', 1478), ('all', 1462), ('for', 1414), ('this', 1280), ('!', 1269), ('at', 1231), ('by', 1137), ('but', 1113), ('not', 1103), ('--', 1070), ('him', 1058), ('from', 1052), ('be', 1030), ('on', 1005), ('so', 918), ('whale', 906), ('one', 889), ('you', 841), ('had', 767), ('have', 760), ('there', 715), ('But', 705), ('or', 697), ('were', 680), ('now', 646), ('which', 640), ('?', 637), ('me', 627), ('like', 624)]\n"
     ]
    }
   ],
   "source": [
    "print(Fdist.most_common(50))\n",
    "#get thw most common fifit words and their occurrence"
   ]
  },
  {
   "cell_type": "code",
   "execution_count": 39,
   "metadata": {},
   "outputs": [
    {
     "name": "stdout",
     "output_type": "stream",
     "text": [
      "<FreqDist with 6833 samples and 141576 outcomes>\n"
     ]
    }
   ],
   "source": [
    "Fdist=FreqDist(text2)\n",
    "print(Fdist)"
   ]
  },
  {
   "cell_type": "code",
   "execution_count": 40,
   "metadata": {},
   "outputs": [
    {
     "name": "stdout",
     "output_type": "stream",
     "text": [
      "[(',', 9397), ('to', 4063), ('.', 3975), ('the', 3861), ('of', 3565), ('and', 3350), ('her', 2436), ('a', 2043), ('I', 2004), ('in', 1904), ('was', 1846), ('it', 1568), ('\"', 1506), (';', 1419), ('she', 1333), ('be', 1305), ('that', 1297), ('for', 1234), ('not', 1212), ('as', 1179), ('you', 1037), ('with', 971), ('had', 969), ('his', 941), ('he', 895), (\"'\", 883), ('have', 807), ('at', 806), ('by', 737), ('is', 728), ('.\"', 721), ('s', 700), ('Elinor', 684), ('on', 676), ('all', 642), ('him', 633), ('so', 617), ('but', 597), ('which', 592), ('could', 568), ('Marianne', 566), ('my', 551), ('Mrs', 530), ('from', 527), ('would', 507), ('very', 492), ('no', 488), ('their', 463), ('them', 462), ('--', 461)]\n"
     ]
    }
   ],
   "source": [
    "print(Fdist.most_common(50))"
   ]
  },
  {
   "cell_type": "code",
   "execution_count": 45,
   "metadata": {},
   "outputs": [
    {
     "data": {
      "image/png": "[encoded data removed]",
      "text/plain": [
       "<Figure size 432x288 with 1 Axes>"
      ]
     },
     "metadata": {
      "needs_background": "light"
     },
     "output_type": "display_data"
    },
    {
     "data": {
      "text/plain": [
       "<Figure size 1440x1080 with 0 Axes>"
      ]
     },
     "metadata": {},
     "output_type": "display_data"
    }
   ],
   "source": [
    "Fdist.plot(50,cumulative=True)\n",
    "plt.figure(figsize=(20,15))\n",
    "plt.show()"
   ]
  },
  {
   "cell_type": "code",
   "execution_count": 47,
   "metadata": {},
   "outputs": [
    {
     "name": "stdout",
     "output_type": "stream",
     "text": [
      "['Sense', 'Sensibility', 'Jane', 'Austen', '1811', ']', 'generations', 'inheritor', 'bequeath', 'Gentleman', 'relish', 'devolved', 'inheriting', 'moiety', 'bequest', 'sale', 'articulation', 'economically', 'tardy', 'survived']\n"
     ]
    }
   ],
   "source": [
    "#words only used once can be found by using Hapaxes\n",
    "print(Fdist.hapaxes()[:20])"
   ]
  },
  {
   "cell_type": "code",
   "execution_count": 53,
   "metadata": {},
   "outputs": [
    {
     "name": "stdout",
     "output_type": "stream",
     "text": [
      "['CIRCUMNAVIGATION', 'irresistibleness', 'superstitiousness', 'uninterpenetratingly', 'Physiognomically', 'circumnavigations', 'characteristically', 'cannibalistically', 'circumnavigating', 'apprehensiveness', 'preternaturalness', 'indiscriminately', 'responsibilities', 'subterraneousness', 'supernaturalness', 'physiognomically', 'comprehensiveness', 'uncompromisedness', 'uncomfortableness', 'undiscriminating']\n"
     ]
    }
   ],
   "source": [
    "ex=set(text1)\n",
    "big_words=[word for word in ex if len(word)>15]\n",
    "print(big_words[:20])"
   ]
  },
  {
   "cell_type": "markdown",
   "metadata": {},
   "source": [
    "# Concordance Function in NLTK\n",
    "Concordance is to find a particular word in context.GFor ex here we got word frightend"
   ]
  },
  {
   "cell_type": "code",
   "execution_count": 54,
   "metadata": {},
   "outputs": [
    {
     "name": "stdout",
     "output_type": "stream",
     "text": [
      "Displaying 6 of 6 matches:\n",
      "t , and was fast asleep . But the frightened master comes to him , and shrieks\n",
      "nd never came to good . He got so frightened about his plaguy soul , that he s\n",
      " says he . Slid ! man , but I was frightened . Such a phiz ! But , somehow , n\n",
      "aking of that buffalo robe to the frightened colt ! Though neither knows where\n",
      "ndostan coast with a deck load of frightened horses , careens , buries , rolls\n",
      "st - sou - east , sir ,\" said the frightened steersman . \" Thou liest !\" smiti\n"
     ]
    }
   ],
   "source": [
    "text1.concordance('frightened')"
   ]
  },
  {
   "cell_type": "code",
   "execution_count": 69,
   "metadata": {},
   "outputs": [
    {
     "name": "stdout",
     "output_type": "stream",
     "text": [
      "================Raw Text=====================\n",
      "\n",
      "\n",
      "A small sample of texts from Project Gutenberg appears in the NLTK corpus collection. \n",
      "However, you may be interested in analyzing other texts from Project Gutenberg.\n",
      "You can browse the catalog of 25,000 free online books at http://www.gutenberg.org/catalog/, \n",
      "and obtain a URL to an ASCII text file. Although 90% of the texts in Project Gutenberg are in English,\n",
      "it includes material in over 50 other \n",
      "languages, including Catalan, Chinese, Dutch, Finnish, French, German, Italian, \n",
      "Portuguese and Spanish (with more than 100 texts each).\n",
      "540\n",
      "==============Tokenize Text==================\n",
      "\n",
      "['A', 'small', 'sample', 'of', 'texts', 'from', 'Project', 'Gutenberg', 'appears', 'in', 'the', 'NLTK', 'corpus', 'collection', '.', 'However', ',', 'you', 'may', 'be']\n",
      "===============NLTK Text======================\n",
      "\n",
      "<Text: A small sample of texts from Project Gutenberg...>\n",
      "===========Concordance Function===============\n",
      "\n",
      "Displaying 5 of 5 matches:\n",
      " texts from Project Gutenberg appears in the NLTK corpus collection . However \n",
      "ion . However , you may be interested in analyzing other texts from Project Gu\n",
      "ext file . Although 90 % of the texts in Project Gutenberg are in English , it\n",
      "of the texts in Project Gutenberg are in English , it includes material in ove\n",
      "are in English , it includes material in over 50 other languages , including C\n",
      "None\n"
     ]
    }
   ],
   "source": [
    "text=\"\"\"\n",
    "A small sample of texts from Project Gutenberg appears in the NLTK corpus collection. \n",
    "However, you may be interested in analyzing other texts from Project Gutenberg.\n",
    "You can browse the catalog of 25,000 free online books at http://www.gutenberg.org/catalog/, \n",
    "and obtain a URL to an ASCII text file. Although 90% of the texts in Project Gutenberg are in English,\n",
    "it includes material in over 50 other \n",
    "languages, including Catalan, Chinese, Dutch, Finnish, French, German, Italian, \n",
    "Portuguese and Spanish (with more than 100 texts each).\"\"\"\n",
    "\n",
    "print(\"================Raw Text=====================\\n\")\n",
    "print(text)\n",
    "print(len(text))\n",
    "print(\"==============Tokenize Text==================\\n\")\n",
    "text_tonize=nltk.word_tokenize(text)\n",
    "print(text_tonize[:20])\n",
    "print(\"===============NLTK Text======================\\n\")\n",
    "text=nltk.Text(text_tonize)\n",
    "print(text)\n",
    "print(\"===========Concordance Function===============\\n\")\n",
    "print(text.concordance('in'))"
   ]
  },
  {
   "cell_type": "code",
   "execution_count": 71,
   "metadata": {},
   "outputs": [
    {
     "name": "stdout",
     "output_type": "stream",
     "text": [
      "silent wild racing\n"
     ]
    }
   ],
   "source": [
    "text1.similar('frightened')"
   ]
  },
  {
   "cell_type": "code",
   "execution_count": 72,
   "metadata": {},
   "outputs": [
    {
     "name": "stdout",
     "output_type": "stream",
     "text": [
      "now as taken though embarks immortal resting grateful\n"
     ]
    }
   ],
   "source": [
    "text1.similar('happily')"
   ]
  },
  {
   "cell_type": "markdown",
   "metadata": {},
   "source": [
    "# Dispersion Plot function in NLTK\n",
    "(dispersion plot) Location in text where  specific words are used"
   ]
  },
  {
   "cell_type": "code",
   "execution_count": 75,
   "metadata": {},
   "outputs": [
    {
     "data": {
      "image/png": "[encoded data removed]",
      "text/plain": [
       "<Figure size 432x288 with 1 Axes>"
      ]
     },
     "metadata": {
      "needs_background": "light"
     },
     "output_type": "display_data"
    }
   ],
   "source": [
    "text6.dispersion_plot(['sword','grail'])"
   ]
  },
  {
   "cell_type": "markdown",
   "metadata": {},
   "source": [
    "## Count function in nltk\n"
   ]
  },
  {
   "cell_type": "code",
   "execution_count": 76,
   "metadata": {},
   "outputs": [
    {
     "data": {
      "text/plain": [
       "3916"
      ]
     },
     "execution_count": 76,
     "metadata": {},
     "output_type": "execute_result"
    }
   ],
   "source": [
    "text1.count('in')"
   ]
  },
  {
   "cell_type": "markdown",
   "metadata": {},
   "source": [
    "# Preprocessing Steps "
   ]
  },
  {
   "cell_type": "code",
   "execution_count": 79,
   "metadata": {},
   "outputs": [
    {
     "name": "stdout",
     "output_type": "stream",
     "text": [
      "While the risk from Cyclone Nisarga to Pune district may be relatively low as compared to Mumbai city and districts in the Konkan division, a number of tehsils in the district’srural parts have been placed on ‘high alert’, said authorities on Tuesday.\n"
     ]
    }
   ],
   "source": [
    "#sample text\n",
    "sample_text=\"While the risk from Cyclone Nisarga \\\n",
    "to Pune district may be relatively low as compared to Mumbai \\\n",
    "city and districts in the Konkan division, a number of tehsils in the district’s\\\n",
    "rural parts have been placed on ‘high alert’, said authorities on Tuesday.\"\n",
    "\n",
    "print(sample_text)"
   ]
  },
  {
   "cell_type": "code",
   "execution_count": 81,
   "metadata": {},
   "outputs": [
    {
     "name": "stdout",
     "output_type": "stream",
     "text": [
      "while the risk from cyclone nisarga to pune district may be relatively low as compared to mumbai city and districts in the konkan division, a number of tehsils in the district’srural parts have been placed on ‘high alert’, said authorities on tuesday.\n"
     ]
    }
   ],
   "source": [
    "#convert to lower case\n",
    "sample_text=sample_text.lower()\n",
    "print(sample_text)"
   ]
  },
  {
   "cell_type": "code",
   "execution_count": 86,
   "metadata": {},
   "outputs": [
    {
     "name": "stdout",
     "output_type": "stream",
     "text": [
      "while the risk from cyclone nisarga to pune district may be relatively low as compared to mumbai city and districts in the konkan division  a number of tehsils in the district srural parts have been placed on  high alert   said authorities on tuesday \n"
     ]
    }
   ],
   "source": [
    "# PunctuationRemoval\n",
    "import re\n",
    "#remove punctuation characters\n",
    "sample_text=re.sub(r'[^a-zA-Z0-9]',\" \",sample_text)\n",
    "print(sample_text)"
   ]
  },
  {
   "cell_type": "code",
   "execution_count": 89,
   "metadata": {},
   "outputs": [
    {
     "name": "stdout",
     "output_type": "stream",
     "text": [
      "['I', 'ca', \"n't\", 'do', 'this', 'now', ',', 'because', 'I', \"'m\", 'so', 'tired', '.', 'Please', 'give', 'me', 'some', 'time', '.', '@', 'sd', '4', '232']\n",
      "['I', 'ca', 'do', 'this', 'now', 'because', 'I', 'so', 'tired', 'Please', 'give', 'me', 'some', 'time', 'sd']\n"
     ]
    }
   ],
   "source": [
    "s=\"I can't do this now,because I'm so tired. Please give me some time. @ sd 4 232\"\n",
    "words=nltk.word_tokenize(s)\n",
    "print(words)\n",
    "words=[word for word in words if word.isalpha()]\n",
    "print(words)"
   ]
  },
  {
   "cell_type": "code",
   "execution_count": 90,
   "metadata": {},
   "outputs": [
    {
     "name": "stdout",
     "output_type": "stream",
     "text": [
      "['Eighty', 'seven', 'miles', 'to', 'go', 'yet', 'Onward']\n"
     ]
    }
   ],
   "source": [
    "# to remove non word charactres\n",
    "from nltk.tokenize import  RegexpTokenizer\n",
    "tokenizer=RegexpTokenizer(r'\\w+')\n",
    "token=tokenizer.tokenize('Eighty-seven miles to go, yet. Onward!')\n",
    "print(token)"
   ]
  },
  {
   "cell_type": "markdown",
   "metadata": {},
   "source": [
    "# Stop words Removal"
   ]
  },
  {
   "cell_type": "code",
   "execution_count": 92,
   "metadata": {},
   "outputs": [
    {
     "name": "stdout",
     "output_type": "stream",
     "text": [
      "{'weren', 'by', 'through', 'over', 'that', 'an', 'haven', 'again', 'against', 'yourselves', 'been', 'some', 'each', 'above', 'when', 'himself', 'am', \"needn't\", 'aren', 'is', \"that'll\", 'any', 'i', 'because', 'most', 'did', 'it', 've', 'your', \"didn't\", \"isn't\", 'll', 'what', \"she's\", 'just', 'no', 'this', 'which', 'you', 'where', 'mightn', 't', 'down', 'mustn', 'below', \"hadn't\", 'ourselves', 'hadn', 'if', 'their', 'too', 'they', 'these', 'only', 're', 'own', 'now', 'to', 'ain', \"you'll\", 'such', 'don', 'same', \"you're\", 'were', 'before', \"don't\", 'can', \"couldn't\", 'both', 'ours', 'wouldn', 'herself', 'its', 'do', 'being', \"shan't\", 'yours', 'between', 'didn', 'out', 'nor', 'my', \"haven't\", 'into', 'shan', \"won't\", 'should', 'who', 'off', 'then', 'for', 'are', 'all', \"mightn't\", 'm', 'does', 'him', 'as', 'more', 'themselves', \"wasn't\", \"you'd\", 'be', 'but', 'further', \"wouldn't\", 'a', 'than', 'theirs', 'whom', 'having', \"should've\", 'her', 'hers', 'under', 'his', 'from', 'at', \"it's\", 'myself', 'has', 'on', 'once', 'd', 'until', 'shouldn', 'doing', 'o', 'needn', 'we', 'ma', \"you've\", 'will', 'yourself', 'not', 'very', \"doesn't\", 'have', 'me', 'while', \"hasn't\", 'wasn', 'our', 'about', 'had', 'in', 'of', 'why', 'couldn', 'the', 'he', 'after', 'here', \"mustn't\", 'other', \"shouldn't\", 'few', 'those', 'hasn', 'there', 'with', 'during', 'and', 'them', 'itself', \"weren't\", 'so', 'y', 'was', 'how', 'doesn', 'isn', \"aren't\", 'she', 'up', 's', 'or', 'won'}\n"
     ]
    }
   ],
   "source": [
    "from nltk.corpus import stopwords\n",
    "stop=set(stopwords.words('english'))\n",
    "print(stop)"
   ]
  },
  {
   "cell_type": "code",
   "execution_count": 94,
   "metadata": {},
   "outputs": [
    {
     "name": "stdout",
     "output_type": "stream",
     "text": [
      "['Eighty', 'seven', 'miles', 'to', 'go', 'yet', 'Onward']\n"
     ]
    },
    {
     "data": {
      "text/plain": [
       "['Eighty', 'seven', 'miles', 'go', 'yet', 'Onward']"
      ]
     },
     "execution_count": 94,
     "metadata": {},
     "output_type": "execute_result"
    }
   ],
   "source": [
    "print(token)\n",
    "[t for t in token if t not in stop ]"
   ]
  }
 ],
 "metadata": {
  "kernelspec": {
   "display_name": "Python 3",
   "language": "python",
   "name": "python3"
  },
  "language_info": {
   "codemirror_mode": {
    "name": "ipython",
    "version": 3
   },
   "file_extension": ".py",
   "mimetype": "text/x-python",
   "name": "python",
   "nbconvert_exporter": "python",
   "pygments_lexer": "ipython3",
   "version": "3.7.4"
  }
 },
 "nbformat": 4,
 "nbformat_minor": 2
}
